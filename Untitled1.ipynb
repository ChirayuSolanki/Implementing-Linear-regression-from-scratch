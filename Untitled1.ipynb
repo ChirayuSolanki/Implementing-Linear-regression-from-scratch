{
 "cells": [
  {
   "cell_type": "code",
   "execution_count": 1,
   "id": "legislative-bangladesh",
   "metadata": {},
   "outputs": [],
   "source": [
    "import numpy as np\n",
    "import matplotlib.pyplot as plt"
   ]
  },
  {
   "cell_type": "code",
   "execution_count": 2,
   "id": "funny-complaint",
   "metadata": {},
   "outputs": [
    {
     "data": {
      "text/plain": [
       "100"
      ]
     },
     "execution_count": 2,
     "metadata": {},
     "output_type": "execute_result"
    }
   ],
   "source": [
    "#generate random data\n",
    "np.random.seed(0)\n",
    "x = np.random.rand(100,1)\n",
    "y = 2+ 3*x+ np.random.rand(100,1)\n",
    "x.shape[0]\n"
   ]
  },
  {
   "cell_type": "code",
   "execution_count": 3,
   "id": "spare-vienna",
   "metadata": {
    "scrolled": true
   },
   "outputs": [
    {
     "data": {
      "image/png": "[encoded data removed]",
      "text/plain": [
       "<Figure size 432x288 with 1 Axes>"
      ]
     },
     "metadata": {
      "needs_background": "light"
     },
     "output_type": "display_data"
    }
   ],
   "source": [
    "#ploting data \n",
    "plt.scatter(x,y,s=10)\n",
    "plt.xlabel('x')\n",
    "plt.ylabel('y')\n",
    "plt.show()"
   ]
  },
  {
   "cell_type": "code",
   "execution_count": 4,
   "id": "adapted-australian",
   "metadata": {},
   "outputs": [],
   "source": [
    "class linear_regression:\n",
    "    def __init__ (self,lr = 0.01,iter= 100000000000):\n",
    "        self.lr = lr\n",
    "        self.iter = iter\n",
    "        self.weights = None\n",
    "        self.bias = None\n",
    "        \n",
    "        \n",
    "    def fit(self,X,Y):\n",
    "        #init parameters\n",
    "        m_samples,n_features = X.shape\n",
    "        self.weights = np.zeros(n_features) \n",
    "        self.bias = 0\n",
    "        \n",
    "        for _ in range(self.iter):\n",
    "            #hypothesis function\n",
    "            h = np.dot(X,self.weights) + self.bias\n",
    "           #derivative term/cost function\n",
    "            dw = (1/m_samples) * np.dot(X.T,(h-Y))\n",
    "            db = (1/m_samples) * np.sum(h-Y)\n",
    "            #gradient descent\n",
    "            self.weights = self.weights - self.lr*dw\n",
    "            self.bias = self.bias- self.lr*db\n",
    "            #plt.scatter(dw,i,s=\"10\")\n",
    "            #plt.show()\n",
    "        print(self.bias) \n",
    "             \n",
    "    def predict(self,X):\n",
    "         h = np.dot(X,self.weights) + self.bias\n",
    "         return h\n",
    "    \n",
    "    \n",
    "    \n",
    "    "
   ]
  },
  {
   "cell_type": "code",
   "execution_count": null,
   "id": "coupled-vacuum",
   "metadata": {},
   "outputs": [],
   "source": [
    "r = linear_regression()\n",
    "r.fit(x,y)\n"
   ]
  },
  {
   "cell_type": "code",
   "execution_count": null,
   "id": "derived-electron",
   "metadata": {},
   "outputs": [],
   "source": []
  },
  {
   "cell_type": "code",
   "execution_count": null,
   "id": "streaming-contrast",
   "metadata": {},
   "outputs": [],
   "source": []
  }
 ],
 "metadata": {
  "kernelspec": {
   "display_name": "Python 3",
   "language": "python",
   "name": "python3"
  },
  "language_info": {
   "codemirror_mode": {
    "name": "ipython",
    "version": 3
   },
   "file_extension": ".py",
   "mimetype": "text/x-python",
   "name": "python",
   "nbconvert_exporter": "python",
   "pygments_lexer": "ipython3",
   "version": "3.7.1"
  }
 },
 "nbformat": 4,
 "nbformat_minor": 5
}
